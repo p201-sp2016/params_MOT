{
 "cells": [
  {
   "cell_type": "markdown",
   "metadata": {},
   "source": [
    "# Tutorial for params_MOT"
   ]
  },
  {
   "cell_type": "markdown",
   "metadata": {},
   "source": [
    "This package fits various parameters to images of molecules or atoms trapped in a magneto-optical trap (MOT)."
   ]
  },
  {
   "cell_type": "code",
   "execution_count": 1,
   "metadata": {
    "collapsed": false
   },
   "outputs": [],
   "source": [
    "%matplotlib inline \n",
    "\n",
    "import numpy as np\n",
    "import matplotlib.pyplot as plt\n",
    "import scipy.ndimage.filters as filters\n",
    "import seaborn as sns\n",
    "import pandas as pd\n",
    "import os\n",
    "\n",
    "import math\n",
    "import emcee\n",
    "\n",
    "from params_MOT.io_package import get_data_file_path, load_data\n",
    "from params_MOT.model import *\n",
    "from params_MOT import MOT_image, Image_with_CCD_readout_charge, MOT_bare_model\n",
    "import params_MOT as pm\n",
    "\n",
    "from scipy.optimize import curve_fit"
   ]
  },
  {
   "cell_type": "markdown",
   "metadata": {},
   "source": [
    "### Set parameters\n",
    "\n",
    "To select a good number of \"burn-in\" steps set the supressMessages parameter to True, look at the plotted traces of the walkers, and choose a step number after whihc the walkers are settled around a certain value."
   ]
  },
  {
   "cell_type": "code",
   "execution_count": 2,
   "metadata": {
    "collapsed": true
   },
   "outputs": [],
   "source": [
    "#mc_params=(walkers, steps, burn_in_steps)\n",
    "mc_params=(200, 1500, 500)\n",
    "\n",
    "#initial_guess = [center_x, center_y, amplitude, sigma_x, sigma_y, background_offset, sigma_m, readout_charge]\n",
    "initial_guess = [25, 25, 100, 10, 10, 100, 20, 60]\n"
   ]
  },
  {
   "cell_type": "markdown",
   "metadata": {},
   "source": [
    "### Run Model on Data and Show Results\n",
    "\n",
    "The MCMC is contained in the function find_params_MOT in model.py. This function runs MCMC using the pm.sampler function, which calls upon the emcee package to compute marginal posteriors for the model parameters. There are 8 parameters to be marginalized over, which is encompassed in the variable theta in our package. theta is an array consisting of the following parameters:\n",
    "(center_x, center_y, amplitude, sigma_x, sigma_y, background_offset, sigma_m, sigma_g)\n",
    "The first 5 parameters give the 2D Gaussian for the MOT. background_offset is self-explanator. sigma_m is the uncertainty in the model, and sigma_m is the uncertainty from the scattered light background. When calling upon the find_params_MOT function, we have to specify an 8-tuple consisting of the initial guesses for theta, and also the duple mc_params = (nwalkers, nsteps) which controls the parameters of the MCMC.\n",
    "From there one only needs to specify the filename of the data (which is presumed to be in the root folder of params_MOT, and the function will automatically run the MCMC and conclude the best fit parameters from the 50th percentile of the final state of the walkers.\n",
    "\n",
    "#### Note on data file title format:\n",
    "The data is stored in .csv files, using the following title convention (this is important because information is stored in the title, too): <br><br>\n",
    "(time in ms)\\_(series number)_(fraction of maximum laser power)power.csv\n",
    "<br><br>\n",
    "For example, the title '3_1_16power.csv' (used in the example below) means that the picture of the MOT was taken 3 ms after realising it from the trap, that the picture is part of the 1st series, and that the laser power used is $\\frac{max\\_power}{16}  = \\frac{60}{16} \\mathrm{mW}$. Not respecting the convention should rise an error pointing this out.\n",
    "<br><br>\n",
    "The directory in which the data is stored is given by the data_dir parameter. Nominally, we store the data in the GitHub/params_MOT/data folder."
   ]
  },
  {
   "cell_type": "code",
   "execution_count": 3,
   "metadata": {
    "collapsed": false
   },
   "outputs": [
    {
     "name": "stdout",
     "output_type": "stream",
     "text": [
      "Loading data...\n"
     ]
    },
    {
     "ename": "FileNotFoundError",
     "evalue": "[Errno 2] No such file or directory: 'F:\\\\Documente si teme Harvard\\\\PHYS 201 - Data analysis for Phys\\\\params_MOT_Andrei\\\\params_MOT\\\\data\\\\3_1_16power.csv'",
     "output_type": "error",
     "traceback": [
      "\u001b[0;31m---------------------------------------------------------------------------\u001b[0m",
      "\u001b[0;31mFileNotFoundError\u001b[0m                         Traceback (most recent call last)",
      "\u001b[0;32m<ipython-input-3-73ed7cd792c9>\u001b[0m in \u001b[0;36m<module>\u001b[0;34m()\u001b[0m\n\u001b[0;32m----> 1\u001b[0;31m \u001b[0ma\u001b[0m \u001b[1;33m=\u001b[0m \u001b[0mfind_params_MOT\u001b[0m\u001b[1;33m(\u001b[0m\u001b[1;34m'3_1_16power.csv'\u001b[0m\u001b[1;33m,\u001b[0m \u001b[0mdata_dir\u001b[0m \u001b[1;33m=\u001b[0m \u001b[1;34m'data'\u001b[0m\u001b[1;33m,\u001b[0m \u001b[0mimage_size\u001b[0m \u001b[1;33m=\u001b[0m \u001b[1;36m50\u001b[0m\u001b[1;33m,\u001b[0m \u001b[0mmc_params\u001b[0m \u001b[1;33m=\u001b[0m \u001b[0mmc_params\u001b[0m\u001b[1;33m,\u001b[0m \u001b[0minitial_guess\u001b[0m \u001b[1;33m=\u001b[0m \u001b[0minitial_guess\u001b[0m\u001b[1;33m,\u001b[0m \u001b[0msupressMessages\u001b[0m \u001b[1;33m=\u001b[0m \u001b[1;32mFalse\u001b[0m\u001b[1;33m)\u001b[0m\u001b[1;33m\u001b[0m\u001b[0m\n\u001b[0m",
      "\u001b[0;32mF:\\Documente si teme Harvard\\PHYS 201 - Data analysis for Phys\\params_MOT_Andrei\\params_MOT\\params_MOT\\model.py\u001b[0m in \u001b[0;36mfind_params_MOT\u001b[0;34m(data_file_name, data_dir, image_size, mc_params, initial_guess, supressMessages)\u001b[0m\n\u001b[1;32m     34\u001b[0m                 \u001b[0mprint\u001b[0m\u001b[1;33m(\u001b[0m\u001b[1;34m'Loading data...'\u001b[0m\u001b[1;33m)\u001b[0m\u001b[1;33m\u001b[0m\u001b[0m\n\u001b[1;32m     35\u001b[0m         \u001b[0mreal_data_path\u001b[0m \u001b[1;33m=\u001b[0m \u001b[0mget_data_file_path\u001b[0m\u001b[1;33m(\u001b[0m\u001b[0mdata_file_name\u001b[0m\u001b[1;33m,\u001b[0m \u001b[0mdata_dir\u001b[0m\u001b[1;33m)\u001b[0m\u001b[1;33m\u001b[0m\u001b[0m\n\u001b[0;32m---> 36\u001b[0;31m         \u001b[0mdata\u001b[0m \u001b[1;33m=\u001b[0m \u001b[0mload_data\u001b[0m\u001b[1;33m(\u001b[0m\u001b[0mdata_file\u001b[0m \u001b[1;33m=\u001b[0m \u001b[0mreal_data_path\u001b[0m\u001b[1;33m,\u001b[0m \u001b[0mdelim\u001b[0m \u001b[1;33m=\u001b[0m \u001b[1;34m','\u001b[0m\u001b[1;33m)\u001b[0m\u001b[1;33m\u001b[0m\u001b[0m\n\u001b[0m\u001b[1;32m     37\u001b[0m \u001b[1;33m\u001b[0m\u001b[0m\n\u001b[1;32m     38\u001b[0m         \u001b[0mimage_object\u001b[0m \u001b[1;33m=\u001b[0m \u001b[0mMOT_image\u001b[0m\u001b[1;33m.\u001b[0m\u001b[0mMOT_image\u001b[0m\u001b[1;33m(\u001b[0m\u001b[0mdata\u001b[0m\u001b[1;33m,\u001b[0m \u001b[0mload_time\u001b[0m\u001b[1;33m(\u001b[0m\u001b[0mdata_file_name\u001b[0m\u001b[1;33m)\u001b[0m\u001b[1;33m,\u001b[0m \u001b[0mload_power\u001b[0m\u001b[1;33m(\u001b[0m\u001b[0mdata_file_name\u001b[0m\u001b[1;33m)\u001b[0m\u001b[1;33m,\u001b[0m \u001b[0mimage_size\u001b[0m \u001b[1;33m=\u001b[0m \u001b[0mimage_size\u001b[0m\u001b[1;33m)\u001b[0m \u001b[1;31m# load image of MOT data\u001b[0m\u001b[1;33m\u001b[0m\u001b[0m\n",
      "\u001b[0;32mF:\\Documente si teme Harvard\\PHYS 201 - Data analysis for Phys\\params_MOT_Andrei\\params_MOT\\params_MOT\\io_package.py\u001b[0m in \u001b[0;36mload_data\u001b[0;34m(data_file, delim)\u001b[0m\n\u001b[1;32m     15\u001b[0m \u001b[1;33m\u001b[0m\u001b[0m\n\u001b[1;32m     16\u001b[0m \u001b[1;32mdef\u001b[0m \u001b[0mload_data\u001b[0m\u001b[1;33m(\u001b[0m\u001b[0mdata_file\u001b[0m\u001b[1;33m,\u001b[0m \u001b[0mdelim\u001b[0m \u001b[1;33m=\u001b[0m \u001b[1;34m','\u001b[0m\u001b[1;33m)\u001b[0m\u001b[1;33m:\u001b[0m\u001b[1;33m\u001b[0m\u001b[0m\n\u001b[0;32m---> 17\u001b[0;31m     \u001b[1;32mreturn\u001b[0m \u001b[0mloadtxt\u001b[0m\u001b[1;33m(\u001b[0m\u001b[0mdata_file\u001b[0m\u001b[1;33m,\u001b[0m \u001b[0mdelimiter\u001b[0m \u001b[1;33m=\u001b[0m \u001b[0mdelim\u001b[0m\u001b[1;33m)\u001b[0m\u001b[1;33m\u001b[0m\u001b[0m\n\u001b[0m\u001b[1;32m     18\u001b[0m \u001b[1;33m\u001b[0m\u001b[0m\n\u001b[1;32m     19\u001b[0m \u001b[1;32mdef\u001b[0m \u001b[0mload_time\u001b[0m\u001b[1;33m(\u001b[0m\u001b[0mfilename\u001b[0m\u001b[1;33m)\u001b[0m\u001b[1;33m:\u001b[0m\u001b[1;33m\u001b[0m\u001b[0m\n",
      "\u001b[0;32mC:\\Users\\AndreiHoria\\Anaconda3\\lib\\site-packages\\numpy\\lib\\npyio.py\u001b[0m in \u001b[0;36mloadtxt\u001b[0;34m(fname, dtype, comments, delimiter, converters, skiprows, usecols, unpack, ndmin)\u001b[0m\n\u001b[1;32m    858\u001b[0m                 \u001b[0mfh\u001b[0m \u001b[1;33m=\u001b[0m \u001b[0miter\u001b[0m\u001b[1;33m(\u001b[0m\u001b[0mopen\u001b[0m\u001b[1;33m(\u001b[0m\u001b[0mfname\u001b[0m\u001b[1;33m,\u001b[0m \u001b[1;34m'U'\u001b[0m\u001b[1;33m)\u001b[0m\u001b[1;33m)\u001b[0m\u001b[1;33m\u001b[0m\u001b[0m\n\u001b[1;32m    859\u001b[0m             \u001b[1;32melse\u001b[0m\u001b[1;33m:\u001b[0m\u001b[1;33m\u001b[0m\u001b[0m\n\u001b[0;32m--> 860\u001b[0;31m                 \u001b[0mfh\u001b[0m \u001b[1;33m=\u001b[0m \u001b[0miter\u001b[0m\u001b[1;33m(\u001b[0m\u001b[0mopen\u001b[0m\u001b[1;33m(\u001b[0m\u001b[0mfname\u001b[0m\u001b[1;33m)\u001b[0m\u001b[1;33m)\u001b[0m\u001b[1;33m\u001b[0m\u001b[0m\n\u001b[0m\u001b[1;32m    861\u001b[0m         \u001b[1;32melse\u001b[0m\u001b[1;33m:\u001b[0m\u001b[1;33m\u001b[0m\u001b[0m\n\u001b[1;32m    862\u001b[0m             \u001b[0mfh\u001b[0m \u001b[1;33m=\u001b[0m \u001b[0miter\u001b[0m\u001b[1;33m(\u001b[0m\u001b[0mfname\u001b[0m\u001b[1;33m)\u001b[0m\u001b[1;33m\u001b[0m\u001b[0m\n",
      "\u001b[0;31mFileNotFoundError\u001b[0m: [Errno 2] No such file or directory: 'F:\\\\Documente si teme Harvard\\\\PHYS 201 - Data analysis for Phys\\\\params_MOT_Andrei\\\\params_MOT\\\\data\\\\3_1_16power.csv'"
     ]
    }
   ],
   "source": [
    "a = find_params_MOT('3_1_16power.csv', data_dir = 'data', image_size = 50, mc_params = mc_params, initial_guess = initial_guess, supressMessages = False)"
   ]
  },
  {
   "cell_type": "markdown",
   "metadata": {},
   "source": [
    "## Get the temperature\n",
    "\n",
    "To get the temperature from the MOT size (i.e., from the standard deviations $\\sigma_\\mathrm{x}$ and $\\sigma_\\mathrm{y}$) we use the following formula: $$\\sigma^2 = \\sigma^2_{\\mathrm{0}} + K_\\mathrm{B} T \\tau^2 /m,$$ where $\\sigma$ stands for either $\\sigma_{\\mathrm{x}}$ or $\\sigma_{\\mathrm{y}}$, $\\tau$ is the time, $T$ is temperature, $K_\\mathrm{B}$ the Boltzmann constant, and $m$ the mass (= 59 amu = 9.80e-26 kg). "
   ]
  },
  {
   "cell_type": "markdown",
   "metadata": {},
   "source": [
    "The first step is to run the sampler on a list of data files. Belowe we get a list of all the .csv files in the folder given by the data_path string. The printed data_files array has the list of these files, which should ideally be part of the same series, with the same used power, and different times (['0.5_1_16power.csv', '2_1_16power.csv', '3_1_16power.csv', '4_1_16power.csv'] is a good example). You can change the array to drop/add files before calling the function to do the fitting to the data."
   ]
  },
  {
   "cell_type": "code",
   "execution_count": null,
   "metadata": {
    "collapsed": false
   },
   "outputs": [],
   "source": [
    "# Get the data files \n",
    "#(NOTE: this works if you have a folder called \"data\" one step up from the main repo folder; the data folder is not uploaded on GitHub)\n",
    "data_path = 'data'\n",
    "data_files = [f for f in os.listdir(data_path) if (os.path.isfile(os.path.join(data_path, f)) and f.split('.')[-1] == 'csv')]\n",
    "separated_data_files = pm.separate_files_power(data_files)\n",
    "print(separated_data_files)"
   ]
  },
  {
   "cell_type": "code",
   "execution_count": null,
   "metadata": {
    "collapsed": false
   },
   "outputs": [],
   "source": [
    "# Run sampler on all data files\n",
    "q = find_params_MOTs(separated_data_files[1], 'data', 50, mc_params, initial_guess, supressMessages = True)"
   ]
  },
  {
   "cell_type": "markdown",
   "metadata": {},
   "source": [
    "Call function to infer the temeprature for the MOT, corresponding to each direction (for one number use formula $T = T_{\\mathrm{x}}^{2/3} \\times T_{\\mathrm{y}}^{1/3}$).\n",
    "\n",
    "NOTE: \n",
    "   - The true image size is 20 mm x 20 mm, so account for that too.\n",
    "   - Time is in ms.\n",
    "   - The power is given as the fraction of the max_power (which is 60 mW). "
   ]
  },
  {
   "cell_type": "code",
   "execution_count": null,
   "metadata": {
    "collapsed": false
   },
   "outputs": [],
   "source": [
    "pm.find_MOT_temp (q, pixel_distance_ratio = 0.4*10**(-3), time_conversion_ratio = 10**(-3), max_power = 60*10**(-3), supressMessages = False)"
   ]
  },
  {
   "cell_type": "markdown",
   "metadata": {
    "collapsed": false
   },
   "source": [
    "The temperature of $\\approx 1$ mK is what we expect.\n",
    "\n",
    "Note that the uncertainties' magnitude varies greatly for each sampler run."
   ]
  },
  {
   "cell_type": "code",
   "execution_count": null,
   "metadata": {
    "collapsed": false
   },
   "outputs": [],
   "source": []
  },
  {
   "cell_type": "code",
   "execution_count": null,
   "metadata": {
    "collapsed": false
   },
   "outputs": [],
   "source": []
  },
  {
   "cell_type": "code",
   "execution_count": null,
   "metadata": {
    "collapsed": false
   },
   "outputs": [],
   "source": [
    "pm.temp_vs_power(separated_data_files)\n"
   ]
  },
  {
   "cell_type": "code",
   "execution_count": null,
   "metadata": {
    "collapsed": true
   },
   "outputs": [],
   "source": []
  },
  {
   "cell_type": "code",
   "execution_count": null,
   "metadata": {
    "collapsed": true
   },
   "outputs": [],
   "source": []
  }
 ],
 "metadata": {
  "anaconda-cloud": {},
  "kernelspec": {
   "display_name": "Python [default]",
   "language": "python",
   "name": "python3"
  },
  "language_info": {
   "codemirror_mode": {
    "name": "ipython",
    "version": 3
   },
   "file_extension": ".py",
   "mimetype": "text/x-python",
   "name": "python",
   "nbconvert_exporter": "python",
   "pygments_lexer": "ipython3",
   "version": "3.5.2"
  }
 },
 "nbformat": 4,
 "nbformat_minor": 1
}
