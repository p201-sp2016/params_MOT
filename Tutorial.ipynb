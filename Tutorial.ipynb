{
 "cells": [
  {
   "cell_type": "markdown",
   "metadata": {},
   "source": [
    "# Tutorial for params_MOT"
   ]
  },
  {
   "cell_type": "markdown",
   "metadata": {},
   "source": [
    "This package fits various parameters to images of molecules or atoms trapped in a magneto-optical trap (MOT)."
   ]
  },
  {
   "cell_type": "markdown",
   "metadata": {},
   "source": [
    "### Set parameters"
   ]
  },
  {
   "cell_type": "code",
   "execution_count": null,
   "metadata": {
    "collapsed": true
   },
   "outputs": [],
   "source": []
  },
  {
   "cell_type": "markdown",
   "metadata": {},
   "source": [
    "### Run Model on Data"
   ]
  },
  {
   "cell_type": "code",
   "execution_count": 3,
   "metadata": {
    "collapsed": false
   },
   "outputs": [
    {
     "ename": "NameError",
     "evalue": "name 'MOTparameters' is not defined",
     "output_type": "error",
     "traceback": [
      "\u001b[0;31m---------------------------------------------------------------------------\u001b[0m",
      "\u001b[0;31mNameError\u001b[0m                                 Traceback (most recent call last)",
      "\u001b[0;32m<ipython-input-3-2ec7adb2fb2a>\u001b[0m in \u001b[0;36m<module>\u001b[0;34m()\u001b[0m\n\u001b[0;32m----> 1\u001b[0;31m \u001b[0mMOTparameters\u001b[0m\u001b[1;33m(\u001b[0m\u001b[0mdata\u001b[0m\u001b[1;33m)\u001b[0m\u001b[1;33m\u001b[0m\u001b[0m\n\u001b[0m",
      "\u001b[0;31mNameError\u001b[0m: name 'MOTparameters' is not defined"
     ]
    }
   ],
   "source": [
    "MOTparameters(data)\n",
    "\n",
    "image_object = load_image(data)\n",
    "image_object.show(gauss_filter = True)"
   ]
  },
  {
   "cell_type": "markdown",
   "metadata": {},
   "source": [
    "### Show Results"
   ]
  },
  {
   "cell_type": "markdown",
   "metadata": {},
   "source": [
    "We plot the walkers for all fitted parameters"
   ]
  },
  {
   "cell_type": "code",
   "execution_count": null,
   "metadata": {
    "collapsed": true
   },
   "outputs": [],
   "source": [
    "fig, (ax_center_x, ax_center_y, ax_amplitude, ax_sigma_x, ax_sigma_y, ax_background_offset, ax_sigma_m,ax_readout_charge) = plt.subplots(8)\n",
    "\n",
    "ax_center_x.set(ylabel='center_x')\n",
    "ax_center_y.set(ylabel='center_y')\n",
    "ax_amplitude.set(ylabel='amplitude')\n",
    "ax_sigma_x.set(ylabel='sigma_x')\n",
    "ax_sigma_y.set(ylabel='sigma_y')\n",
    "ax_background_offset.set(ylabel='background_offset')\n",
    "ax_sigma_m.set(ylabel='sigma_m')\n",
    "ax_readout_charge.set(ylabel='readout_charge')\n",
    "\n",
    "for i in range(20):\n",
    "    sns.tsplot(emcce_sample.chain[i,:,0], ax=ax_center_x)\n",
    "    sns.tsplot(emcce_sample.chain[i,:,1], ax=ax_center_y)\n",
    "    sns.tsplot(emcce_sample.chain[i,:,2], ax=ax_amplitude)\n",
    "    sns.tsplot(emcce_sample.chain[i,:,3], ax=ax_sigma_x)\n",
    "    sns.tsplot(emcce_sample.chain[i,:,4], ax=ax_sigma_y)\n",
    "    sns.tsplot(emcce_sample.chain[i,:,5], ax=ax_background_offset)\n",
    "    sns.tsplot(emcce_sample.chain[i,:,6], ax=ax_sigma_m)\n",
    "    sns.tsplot(emcce_sample.chain[i,:,7], ax=ax_readout_charge)\n",
    "    "
   ]
  },
  {
   "cell_type": "markdown",
   "metadata": {},
   "source": [
    "The fitted values for the gaussain widths with 1 sigma errors are shown below"
   ]
  },
  {
   "cell_type": "code",
   "execution_count": null,
   "metadata": {
    "collapsed": true
   },
   "outputs": [],
   "source": [
    "parameter_samples = pd.DataFrame({'sigma_x': traces[3], 'sigma_y': traces[4]})\n",
    "\n",
    "q = parameter_samples.quantile([0.16,0.50,0.84], axis=0)\n",
    "sigma_x = q['sigma_x'][0.50]\n",
    "sigma_y = q['sigma_y'][0.50]\n",
    "\n",
    "print(q)\n",
    "\n",
    "sns.jointplot(x='sigma_x', y='sigma_y', data=parameter_samples, kind='kde')"
   ]
  }
 ],
 "metadata": {
  "kernelspec": {
   "display_name": "Python [default]",
   "language": "python",
   "name": "python3"
  },
  "language_info": {
   "codemirror_mode": {
    "name": "ipython",
    "version": 3
   },
   "file_extension": ".py",
   "mimetype": "text/x-python",
   "name": "python",
   "nbconvert_exporter": "python",
   "pygments_lexer": "ipython3",
   "version": "3.5.2"
  }
 },
 "nbformat": 4,
 "nbformat_minor": 1
}
